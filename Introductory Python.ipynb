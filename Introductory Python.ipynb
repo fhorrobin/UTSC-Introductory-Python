{
 "cells": [
  {
   "cell_type": "markdown",
   "metadata": {},
   "source": [
    "# Compilation of some key introductory material"
   ]
  },
  {
   "cell_type": "markdown",
   "metadata": {},
   "source": [
    "Section 1: Basic Data and flow\n",
    "1. Basic data types and arithmetic\n",
    "2. Using variables\n",
    "3. More advanced data types\n",
    "4. Modules\n",
    "\n",
    "Section 2: Flow control and functions\n",
    "5. A basic flow control structure\n",
    "6. Booleans\n",
    "7. Basic functions\n",
    "8. Writing programs\n",
    "\n",
    "Section 3: Iterations and more on lists\n",
    "11. The for loop for lists\n",
    "12. Iteration by index\n",
    "14. The while loop, using breaking conditions\n",
    "15. 2D lists"
   ]
  },
  {
   "cell_type": "markdown",
   "metadata": {},
   "source": [
    "## Section 1:"
   ]
  },
  {
   "cell_type": "markdown",
   "metadata": {},
   "source": [
    "### 1. Basic Data\n",
    "\n",
    "We can use numbers in python just like in a calculator"
   ]
  },
  {
   "cell_type": "code",
   "execution_count": 1,
   "metadata": {},
   "outputs": [
    {
     "data": {
      "text/plain": [
       "50"
      ]
     },
     "execution_count": 1,
     "metadata": {},
     "output_type": "execute_result"
    }
   ],
   "source": [
    "10 * (2 + 3)"
   ]
  },
  {
   "cell_type": "markdown",
   "metadata": {},
   "source": [
    "The standard operators available in Python are:\n",
    "   * \\+ and -\n",
    "   * \\* and /\n",
    "   * // (Integer divide)\n",
    "   * %"
   ]
  },
  {
   "cell_type": "code",
   "execution_count": 3,
   "metadata": {},
   "outputs": [
    {
     "data": {
      "text/plain": [
       "1.6666666666666667"
      ]
     },
     "execution_count": 3,
     "metadata": {},
     "output_type": "execute_result"
    }
   ],
   "source": [
    "5 / 3"
   ]
  },
  {
   "cell_type": "code",
   "execution_count": 4,
   "metadata": {},
   "outputs": [
    {
     "data": {
      "text/plain": [
       "1"
      ]
     },
     "execution_count": 4,
     "metadata": {},
     "output_type": "execute_result"
    }
   ],
   "source": [
    "5 // 3"
   ]
  },
  {
   "cell_type": "markdown",
   "metadata": {},
   "source": [
    "They are all behaved how you would expect. Just rememeber not to mix up integer division vs division and note that division is different in Python 2 so you should use Python 3.x to follow these notes."
   ]
  },
  {
   "cell_type": "code",
   "execution_count": 5,
   "metadata": {},
   "outputs": [
    {
     "data": {
      "text/plain": [
       "float"
      ]
     },
     "execution_count": 5,
     "metadata": {},
     "output_type": "execute_result"
    }
   ],
   "source": [
    "type(3.14)"
   ]
  },
  {
   "cell_type": "code",
   "execution_count": 6,
   "metadata": {},
   "outputs": [
    {
     "data": {
      "text/plain": [
       "int"
      ]
     },
     "execution_count": 6,
     "metadata": {},
     "output_type": "execute_result"
    }
   ],
   "source": [
    "type(1)"
   ]
  },
  {
   "cell_type": "markdown",
   "metadata": {},
   "source": [
    "If we want to print some text to the screen we can use the Python function: print()"
   ]
  },
  {
   "cell_type": "code",
   "execution_count": 11,
   "metadata": {},
   "outputs": [
    {
     "name": "stdout",
     "output_type": "stream",
     "text": [
      "2\n",
      "Hello\n",
      "3.3333333333333335\n"
     ]
    }
   ],
   "source": [
    "print(1 + 1)\n",
    "print(\"Hello\")\n",
    "print(10 / 3)"
   ]
  },
  {
   "cell_type": "markdown",
   "metadata": {},
   "source": [
    "Integers and floating point numbers have different types. We will see more of this and why it is important later."
   ]
  },
  {
   "cell_type": "markdown",
   "metadata": {},
   "source": [
    "### 2. Variables"
   ]
  },
  {
   "cell_type": "code",
   "execution_count": 9,
   "metadata": {},
   "outputs": [
    {
     "name": "stdout",
     "output_type": "stream",
     "text": [
      "17.1\n"
     ]
    }
   ],
   "source": [
    "x = 10\n",
    "y = 7.1\n",
    "z = x + y\n",
    "\n",
    "# Show the value of z\n",
    "print(z)"
   ]
  },
  {
   "cell_type": "markdown",
   "metadata": {},
   "source": [
    "We can store any of the values we want to use as a variable. Variables have the same properties as the initial object. They can be added, subtracted etc..."
   ]
  },
  {
   "cell_type": "markdown",
   "metadata": {},
   "source": [
    "We generally want to use better variable names then the above code:"
   ]
  },
  {
   "cell_type": "code",
   "execution_count": 10,
   "metadata": {},
   "outputs": [
    {
     "name": "stdout",
     "output_type": "stream",
     "text": [
      "21\n"
     ]
    }
   ],
   "source": [
    "number_apples = 10\n",
    "number_oranges = 11\n",
    "total_fruit = number_apples + number_oranges\n",
    "\n",
    "print(total_fruit)"
   ]
  },
  {
   "cell_type": "markdown",
   "metadata": {},
   "source": [
    "### 3. More advanced data types"
   ]
  },
  {
   "cell_type": "markdown",
   "metadata": {},
   "source": [
    "Sometimes we have more complicated data to store:"
   ]
  },
  {
   "cell_type": "code",
   "execution_count": 12,
   "metadata": {},
   "outputs": [],
   "source": [
    "age1 = 10\n",
    "age2 = 19\n",
    "age3 = 20\n",
    "age4 = 13"
   ]
  },
  {
   "cell_type": "markdown",
   "metadata": {},
   "source": [
    "We can see that storing data like this would not work if we had say 100 or 1000 items to store. So we use a list instead:"
   ]
  },
  {
   "cell_type": "code",
   "execution_count": 13,
   "metadata": {},
   "outputs": [],
   "source": [
    "ages = [10, 19, 20, 13]"
   ]
  },
  {
   "cell_type": "markdown",
   "metadata": {},
   "source": [
    "The objects are numbered at the indexes starting from 0.\n",
    "10 is the 0th item\n",
    "19 is 1st item\n",
    "..."
   ]
  },
  {
   "cell_type": "markdown",
   "metadata": {},
   "source": [
    "Some operations:\n",
    "- Access an element\n",
    "- Modify an element\n",
    "- Slice part of the list\n",
    "- Copy the list"
   ]
  },
  {
   "cell_type": "code",
   "execution_count": 15,
   "metadata": {},
   "outputs": [
    {
     "name": "stdout",
     "output_type": "stream",
     "text": [
      "19\n",
      "[10, 19, 26, 13]\n"
     ]
    }
   ],
   "source": [
    "# Access an element\n",
    "print(ages[1])\n",
    "\n",
    "# Modify\n",
    "ages[2] = 26\n",
    "print(ages)"
   ]
  },
  {
   "cell_type": "code",
   "execution_count": 16,
   "metadata": {},
   "outputs": [
    {
     "name": "stdout",
     "output_type": "stream",
     "text": [
      "[19, 26, 13]\n",
      "[10, 19]\n",
      "[26, 13]\n"
     ]
    }
   ],
   "source": [
    "# Slice part of the list\n",
    "print(ages[1:])\n",
    "print(ages[:2])\n",
    "print(ages[2:4])"
   ]
  },
  {
   "cell_type": "markdown",
   "metadata": {},
   "source": [
    "The slicing of form n:m takes all items from n (inclusively) to m (exclusively)."
   ]
  },
  {
   "cell_type": "code",
   "execution_count": 17,
   "metadata": {},
   "outputs": [],
   "source": [
    "# Copy a list\n",
    "ages_cp = ages[:]"
   ]
  },
  {
   "cell_type": "markdown",
   "metadata": {},
   "source": [
    "Why would we copy? Watch the following example. First I will do it for itegers, then for lists."
   ]
  },
  {
   "cell_type": "code",
   "execution_count": 20,
   "metadata": {},
   "outputs": [
    {
     "name": "stdout",
     "output_type": "stream",
     "text": [
      "a =  10 ; b =  5\n"
     ]
    }
   ],
   "source": [
    "# For itegers:\n",
    "a = 10\n",
    "b = a\n",
    "b = 5\n",
    "\n",
    "print(\"a = \", a, \"; b = \", b) # Question: What are the values of a and b"
   ]
  },
  {
   "cell_type": "code",
   "execution_count": 22,
   "metadata": {},
   "outputs": [
    {
     "name": "stdout",
     "output_type": "stream",
     "text": [
      "a =  [1, 2, 6] \n",
      "b =  [1, 2, 6]\n"
     ]
    }
   ],
   "source": [
    "# For lists\n",
    "a = [1,2,3]\n",
    "b = a\n",
    "b[2] = 6\n",
    "\n",
    "print(\"a = \", a, \"\\nb = \", b)"
   ]
  },
  {
   "cell_type": "markdown",
   "metadata": {},
   "source": [
    "This is because lists are *mutable* we will talk more about it later but for now note this behaviour is different than what we might expect. Now we will see why copying is useful"
   ]
  },
  {
   "cell_type": "code",
   "execution_count": 23,
   "metadata": {},
   "outputs": [
    {
     "name": "stdout",
     "output_type": "stream",
     "text": [
      "a =  [1, 2, 3] \n",
      "b =  [1, 2, 6]\n"
     ]
    }
   ],
   "source": [
    "# Wth copying\n",
    "a = [1,2,3]\n",
    "b = a[:]\n",
    "b[2] = 6\n",
    "\n",
    "print(\"a = \", a, \"\\nb = \", b)"
   ]
  },
  {
   "cell_type": "markdown",
   "metadata": {},
   "source": [
    "If we make a copy, we do not change the original list."
   ]
  },
  {
   "cell_type": "markdown",
   "metadata": {},
   "source": [
    "### 4. Modules"
   ]
  },
  {
   "cell_type": "markdown",
   "metadata": {},
   "source": [
    "Sometimes we need to use other code that has been created so that we don't have to write everything ourselves. To do this we import a module. For example, we will use libraries such as scipy, numpy and matplotlib frequently throughout the more advanced topics we work on."
   ]
  },
  {
   "cell_type": "markdown",
   "metadata": {},
   "source": [
    "There are 3 basic ways to import the items. I will demonstrate them all with numpy and them you can extend that to other modules you may use"
   ]
  },
  {
   "cell_type": "code",
   "execution_count": 24,
   "metadata": {},
   "outputs": [],
   "source": [
    "# 1. Importing the module the easiest way\n",
    "import numpy"
   ]
  },
  {
   "cell_type": "markdown",
   "metadata": {},
   "source": [
    "This is simple but makes the module a bit more difficult to use. We will try using the sqrt function in numpy. To use it this way we must use:"
   ]
  },
  {
   "cell_type": "code",
   "execution_count": 25,
   "metadata": {},
   "outputs": [
    {
     "data": {
      "text/plain": [
       "2.0"
      ]
     },
     "execution_count": 25,
     "metadata": {},
     "output_type": "execute_result"
    }
   ],
   "source": [
    "numpy.sqrt(4)"
   ]
  },
  {
   "cell_type": "code",
   "execution_count": 26,
   "metadata": {},
   "outputs": [],
   "source": [
    "# A better way\n",
    "import numpy as np"
   ]
  },
  {
   "cell_type": "markdown",
   "metadata": {},
   "source": [
    "Now we have given it a name instead of just importing it. To use it:"
   ]
  },
  {
   "cell_type": "code",
   "execution_count": 27,
   "metadata": {},
   "outputs": [
    {
     "data": {
      "text/plain": [
       "2.0"
      ]
     },
     "execution_count": 27,
     "metadata": {},
     "output_type": "execute_result"
    }
   ],
   "source": [
    "np.sqrt(4)"
   ]
  },
  {
   "cell_type": "markdown",
   "metadata": {},
   "source": [
    "Finally, if we know what functions we want to import we could import and use them directly."
   ]
  },
  {
   "cell_type": "code",
   "execution_count": 28,
   "metadata": {},
   "outputs": [],
   "source": [
    "from numpy import sqrt"
   ]
  },
  {
   "cell_type": "code",
   "execution_count": 29,
   "metadata": {},
   "outputs": [
    {
     "data": {
      "text/plain": [
       "2.0"
      ]
     },
     "execution_count": 29,
     "metadata": {},
     "output_type": "execute_result"
    }
   ],
   "source": [
    "sqrt(4)"
   ]
  },
  {
   "cell_type": "markdown",
   "metadata": {},
   "source": [
    "Which method we use depends on how we want to use the module. We will see more examples of this later. "
   ]
  },
  {
   "cell_type": "markdown",
   "metadata": {},
   "source": [
    "## Section 2:"
   ]
  },
  {
   "cell_type": "markdown",
   "metadata": {},
   "source": [
    "### 1. Basic Flow control"
   ]
  },
  {
   "cell_type": "markdown",
   "metadata": {},
   "source": [
    "We want to control what the code does depending on certain conditions. To do this we use flow control. In python this will be the if...elif...else statement. We will see a simpel example and then you can extend it to more complicated cases on your own for practice."
   ]
  },
  {
   "cell_type": "code",
   "execution_count": 30,
   "metadata": {},
   "outputs": [
    {
     "name": "stdout",
     "output_type": "stream",
     "text": [
      "Less than or equal to 10\n"
     ]
    }
   ],
   "source": [
    "a = 10\n",
    "\n",
    "if a <= 10:\n",
    "    print(\"Less than or equal to 10\")"
   ]
  },
  {
   "cell_type": "markdown",
   "metadata": {},
   "source": [
    "This is the most simple example. We could also add an else statement if we wanted:"
   ]
  },
  {
   "cell_type": "code",
   "execution_count": 31,
   "metadata": {},
   "outputs": [
    {
     "name": "stdout",
     "output_type": "stream",
     "text": [
      "Number larger than 10\n"
     ]
    }
   ],
   "source": [
    "a = 10\n",
    "\n",
    "if a < 10:\n",
    "    print(\"Less than 10\")\n",
    "else:\n",
    "    print(\"Number larger than 10\")"
   ]
  },
  {
   "cell_type": "markdown",
   "metadata": {},
   "source": [
    "And we can have more than one condition if we wish:"
   ]
  },
  {
   "cell_type": "code",
   "execution_count": 32,
   "metadata": {},
   "outputs": [
    {
     "name": "stdout",
     "output_type": "stream",
     "text": [
      "Number equal to 10\n"
     ]
    }
   ],
   "source": [
    "a = 10\n",
    "\n",
    "if a < 10:\n",
    "    print(\"Less than 10\")\n",
    "elif a == 10:\n",
    "    print(\"Number equal to 10\")\n",
    "else:\n",
    "    print(\"Number larger than 10\")"
   ]
  },
  {
   "cell_type": "markdown",
   "metadata": {},
   "source": [
    "### 2. Boleans"
   ]
  },
  {
   "cell_type": "markdown",
   "metadata": {},
   "source": [
    "The conditions of the flow control use a new data type called booleans. These are the same as the booleans from mathematics. To review, the valid operator are: >, <, <=, >=, =="
   ]
  },
  {
   "cell_type": "markdown",
   "metadata": {},
   "source": [
    "We can also add operators together with *and* or *or* and negate them with *not*. Booleans hold a value *True* or *False*. Examples:"
   ]
  },
  {
   "cell_type": "code",
   "execution_count": 35,
   "metadata": {},
   "outputs": [
    {
     "name": "stdout",
     "output_type": "stream",
     "text": [
      "False\n",
      "True\n",
      "True\n"
     ]
    }
   ],
   "source": [
    "print(not(10 > 5) and 'a' == 'a')\n",
    "print((5 < 3) or (7 >= 2))\n",
    "print(True and (True or False))"
   ]
  },
  {
   "cell_type": "markdown",
   "metadata": {},
   "source": [
    "### 3. Functions"
   ]
  },
  {
   "cell_type": "markdown",
   "metadata": {},
   "source": [
    "Sometimes we need to do the same task over an over again. Then it does not make sense to repeat the code. Instead we write a function and then we can call it as many times as we want.\n",
    "\n",
    "We have seen some examples of builtin functions: For example the print() function.\n",
    "\n",
    "The basic structure of a function follows a mathematical function. Let's write a python function for the following:\n",
    "\n",
    "$$f(x) = x^2$$"
   ]
  },
  {
   "cell_type": "code",
   "execution_count": 36,
   "metadata": {},
   "outputs": [],
   "source": [
    "def f(x):\n",
    "    return x*x"
   ]
  },
  {
   "cell_type": "markdown",
   "metadata": {},
   "source": [
    "Then we can call the function with some input values for x and the output will be x*x:"
   ]
  },
  {
   "cell_type": "code",
   "execution_count": 37,
   "metadata": {},
   "outputs": [
    {
     "name": "stdout",
     "output_type": "stream",
     "text": [
      "4\n",
      "9\n"
     ]
    }
   ],
   "source": [
    "print(f(2))\n",
    "print(f(3))"
   ]
  },
  {
   "cell_type": "markdown",
   "metadata": {},
   "source": [
    "Functions use their own variables. You pass pariables in through the parameters and the function returns values back to you. In general the function does not change the values of variables you pass in. Be careful with lists though! Since they are mutable, a function can change them. "
   ]
  },
  {
   "cell_type": "code",
   "execution_count": 38,
   "metadata": {},
   "outputs": [],
   "source": [
    "def change_item(lst, new_item):\n",
    "    lst[0] = new_item\n",
    "    # Notice there is no return"
   ]
  },
  {
   "cell_type": "code",
   "execution_count": 40,
   "metadata": {},
   "outputs": [
    {
     "name": "stdout",
     "output_type": "stream",
     "text": [
      "[5, 2, 3]\n"
     ]
    }
   ],
   "source": [
    "a = [1, 2, 3]\n",
    "change_item(a, 5)\n",
    "print(a)"
   ]
  },
  {
   "cell_type": "markdown",
   "metadata": {},
   "source": [
    "We see that the original list is changed. This can be a powerful feature with functions when used correctly but can also lead to difficult to debug mistakes so be careful!"
   ]
  },
  {
   "cell_type": "markdown",
   "metadata": {},
   "source": [
    "### 4. Writing Programs"
   ]
  },
  {
   "cell_type": "markdown",
   "metadata": {},
   "source": [
    "A program is formed by a combination of functions and other code. You should practice first writing the functions as standalone items and then using them together to make a program. For example, I will use the two function above to sqaure a number and replace the first item of a list with it:"
   ]
  },
  {
   "cell_type": "code",
   "execution_count": 42,
   "metadata": {},
   "outputs": [
    {
     "name": "stdout",
     "output_type": "stream",
     "text": [
      "[9, 4, 5]\n"
     ]
    }
   ],
   "source": [
    "def f(x):\n",
    "    return x*x\n",
    "\n",
    "\n",
    "def change_item(lst, new_item):\n",
    "    lst[0] = new_item\n",
    "    # Notice there is no return\n",
    "    \n",
    "\n",
    "a = [3,4,5]\n",
    "item = 3\n",
    "\n",
    "change_item(a, f(item))\n",
    "print(a)"
   ]
  },
  {
   "cell_type": "markdown",
   "metadata": {},
   "source": [
    "Notice that the two function calls are in the same line. In python, function calls are evaluated from inside to outside. In this example:\n",
    "\n",
    "1. f(item) = f(3) = 9\n",
    "2. change_iteme(a, f(item)) = change_item([3,4,5], 9)\n",
    "\n",
    "Thinking about the order of operation in this way and actually replacing the values in your head (or on a sheet of paper) can help you find issues with the code. "
   ]
  },
  {
   "cell_type": "markdown",
   "metadata": {},
   "source": [
    "We will do more examples of functions once we learn more complicated material."
   ]
  },
  {
   "cell_type": "markdown",
   "metadata": {},
   "source": [
    "## Section 3:"
   ]
  },
  {
   "cell_type": "markdown",
   "metadata": {},
   "source": [
    "### 1. For loop for lists"
   ]
  },
  {
   "cell_type": "markdown",
   "metadata": {},
   "source": [
    "Let's say we have a list and we want to work with it. The most common thing to do would be to work with one of the items at a time. In progrmaming we call this iteration. We will use it to perform a task on each item rather than on the list as a whole. \n",
    "\n",
    "Consider this simple example using the most basic type of iteration for a list, the for item loop:"
   ]
  },
  {
   "cell_type": "code",
   "execution_count": 45,
   "metadata": {},
   "outputs": [
    {
     "name": "stdout",
     "output_type": "stream",
     "text": [
      "1\n",
      "2\n",
      "3\n"
     ]
    }
   ],
   "source": [
    "a = [1, 2, 3]\n",
    "\n",
    "for item in a:\n",
    "    print(item)"
   ]
  },
  {
   "cell_type": "markdown",
   "metadata": {},
   "source": [
    "Notice that for each time through the loop, the loop variable contains a value from the list. Each time it advances to the next one."
   ]
  },
  {
   "cell_type": "markdown",
   "metadata": {},
   "source": [
    "Now consider a slightly less trivial example:"
   ]
  },
  {
   "cell_type": "code",
   "execution_count": 43,
   "metadata": {},
   "outputs": [
    {
     "name": "stdout",
     "output_type": "stream",
     "text": [
      "10\n"
     ]
    }
   ],
   "source": [
    "lst = [1, 3, 6, 7, 10, 3, 9]\n",
    "\n",
    "# Let's try to find the maximum value. Assume all values are >= 0.\n",
    "current_max = 0 \n",
    "\n",
    "# Iterate through the list\n",
    "for num in lst: \n",
    "    if current_max < num:\n",
    "        current_max = num\n",
    "        \n",
    "print(current_max)"
   ]
  },
  {
   "cell_type": "code",
   "execution_count": 44,
   "metadata": {},
   "outputs": [
    {
     "name": "stdout",
     "output_type": "stream",
     "text": [
      "31\n"
     ]
    }
   ],
   "source": [
    "# Another example: Sum all the items in a list\n",
    "\n",
    "lst = [3, 4, 6, 8, 10]\n",
    "\n",
    "tot = 0\n",
    "\n",
    "for item in lst:\n",
    "    tot += item\n",
    "    \n",
    "print(tot)"
   ]
  },
  {
   "cell_type": "markdown",
   "metadata": {},
   "source": [
    "A limitation of this method is that we can only iterate through a list, string or similar indexed object. Next we will consider how we can iterate by index instead."
   ]
  },
  {
   "cell_type": "markdown",
   "metadata": {},
   "source": [
    "### 2. For loops by index"
   ]
  },
  {
   "cell_type": "markdown",
   "metadata": {},
   "source": [
    "A more general form of the for loop iterates by the index. The index is just a list of consecutive numbers. TO motivate this, I will do it manually before using the pythonic notation for this:"
   ]
  },
  {
   "cell_type": "code",
   "execution_count": 54,
   "metadata": {},
   "outputs": [
    {
     "name": "stdout",
     "output_type": "stream",
     "text": [
      "6\n",
      "7\n",
      "3\n",
      "4\n",
      "5\n",
      "8\n"
     ]
    }
   ],
   "source": [
    "indexes = [0, 1, 2, 3, 4, 5]\n",
    "a = [6, 7, 3, 4, 5, 8]\n",
    "\n",
    "for i in indexes:\n",
    "    print(a[i])\n",
    "    "
   ]
  },
  {
   "cell_type": "markdown",
   "metadata": {},
   "source": [
    "Notice how I am iterating through a list of consecutive numbers and using them to index the main list. Now consider a useful built in function, the range() funtion. We will see some exmples of it's use."
   ]
  },
  {
   "cell_type": "code",
   "execution_count": 50,
   "metadata": {},
   "outputs": [
    {
     "name": "stdout",
     "output_type": "stream",
     "text": [
      "[0, 1, 2, 3, 4, 5]\n"
     ]
    }
   ],
   "source": [
    "# Create the index list from above with range\n",
    "a = range(6)\n",
    "\n",
    "# Print it as a list\n",
    "print(list(a))"
   ]
  },
  {
   "cell_type": "markdown",
   "metadata": {},
   "source": [
    "We can also specify the start or the interval:"
   ]
  },
  {
   "cell_type": "code",
   "execution_count": 51,
   "metadata": {},
   "outputs": [
    {
     "name": "stdout",
     "output_type": "stream",
     "text": [
      "[1, 2, 3, 4, 5]\n"
     ]
    }
   ],
   "source": [
    "# Create the index list from above with range\n",
    "a = range(1, 6)\n",
    "\n",
    "# Print it as a list\n",
    "print(list(a))"
   ]
  },
  {
   "cell_type": "code",
   "execution_count": 52,
   "metadata": {},
   "outputs": [
    {
     "name": "stdout",
     "output_type": "stream",
     "text": [
      "[0, 2, 4, 6, 8]\n"
     ]
    }
   ],
   "source": [
    "# Create the index list from above with range\n",
    "a = range(0, 10, 2)\n",
    "\n",
    "# Print it as a list\n",
    "print(list(a))"
   ]
  },
  {
   "cell_type": "markdown",
   "metadata": {},
   "source": [
    "So let's try to use this to iterate through a list by index:"
   ]
  },
  {
   "cell_type": "code",
   "execution_count": 53,
   "metadata": {},
   "outputs": [
    {
     "name": "stdout",
     "output_type": "stream",
     "text": [
      "1\n",
      "2\n",
      "3\n",
      "4\n"
     ]
    }
   ],
   "source": [
    "a = [1, 2, 3, 4]\n",
    "\n",
    "for i in range(len(a)):\n",
    "    print(a[i])"
   ]
  },
  {
   "cell_type": "markdown",
   "metadata": {},
   "source": [
    "So we accomplish the same result as before in a more readable way."
   ]
  },
  {
   "cell_type": "markdown",
   "metadata": {},
   "source": [
    "Now let's try something more complicated where this comes in handy. We want to add two python lists component wise (vector addition). Later we will see a better way to do this with numpy but it is a useful example for loops.\n",
    "\n",
    "Let's start with a and b vectors and then add b to a component wise."
   ]
  },
  {
   "cell_type": "code",
   "execution_count": 55,
   "metadata": {},
   "outputs": [
    {
     "name": "stdout",
     "output_type": "stream",
     "text": [
      "[7, 9, 11]\n"
     ]
    }
   ],
   "source": [
    "a = [2, 3, 4]\n",
    "b = [5, 6, 7]\n",
    "\n",
    "for i in range(len(a)):\n",
    "    a[i] += b[i]\n",
    "    \n",
    "print(a)"
   ]
  },
  {
   "cell_type": "markdown",
   "metadata": {},
   "source": [
    "The approach we took there is in general all we need to do to iterate through a 1 dimensional list. We will now see another type of loop and then return to the for loop for some more complicated (2D) examples."
   ]
  },
  {
   "cell_type": "markdown",
   "metadata": {},
   "source": [
    "### 3. The while loop"
   ]
  },
  {
   "cell_type": "markdown",
   "metadata": {},
   "source": [
    "Sometimes we know a condition to stop a loop that is not after a set number of iterations. This could for example be if we wanted to iterate until our error was adeuately small. There are a couple ways we can do this but the while loop is the prefferred way. We will work a coupe examples to see how it works."
   ]
  },
  {
   "cell_type": "code",
   "execution_count": 57,
   "metadata": {},
   "outputs": [
    {
     "name": "stdout",
     "output_type": "stream",
     "text": [
      "0\n",
      "1\n",
      "2\n",
      "3\n"
     ]
    }
   ],
   "source": [
    "# A simple example. This could be written with a for loop but it demonstrates the point\n",
    "\n",
    "counter = 0\n",
    "while counter < 4:\n",
    "    print(counter)\n",
    "    counter += 1\n",
    "    "
   ]
  },
  {
   "cell_type": "markdown",
   "metadata": {},
   "source": [
    "We can apply the technique here to any problem where we have a condition other than just a counter to do things a for loop would find more difficult."
   ]
  },
  {
   "cell_type": "code",
   "execution_count": 2,
   "metadata": {},
   "outputs": [
    {
     "name": "stdout",
     "output_type": "stream",
     "text": [
      "3\n"
     ]
    }
   ],
   "source": [
    "# An example with a breaking condition\n",
    "\n",
    "a = [1, 2, 3, 4, 5]\n",
    "find = 4\n",
    "\n",
    "index = 0\n",
    "exit = False\n",
    "\n",
    "while not(exit):\n",
    "    if a[index] == find:\n",
    "        exit = True\n",
    "    else:\n",
    "        index += 1\n",
    "        \n",
    "print(index)"
   ]
  },
  {
   "cell_type": "markdown",
   "metadata": {},
   "source": [
    "Be careful with while loops. If your stopping condition is never true then the loop will run forever (an infinite loop)."
   ]
  },
  {
   "cell_type": "markdown",
   "metadata": {},
   "source": [
    "From the examples you may notice that you can do most of the tasks with either a for item, for index or while loop. Part of programming is figuring out when you should use each one to make your job easier but in most cases it will not make a significant difference which one you choose."
   ]
  },
  {
   "cell_type": "markdown",
   "metadata": {},
   "source": [
    "#### 4. 2D lists"
   ]
  },
  {
   "cell_type": "markdown",
   "metadata": {},
   "source": [
    "The final topic from basic python concepts we will use as a scientist. Sometimes we want lists that have more than one dimension. They can make storing data more convenient and represent objects such as matrices. Let's see how we can interact with them:"
   ]
  },
  {
   "cell_type": "code",
   "execution_count": 4,
   "metadata": {},
   "outputs": [
    {
     "name": "stdout",
     "output_type": "stream",
     "text": [
      "3\n"
     ]
    }
   ],
   "source": [
    "a = [[1, 2], # Same as [[1,2], [3,4]] I just added line break to see it as a matrix.\n",
    "     [3, 4]]\n",
    "\n",
    "# The indexes of the outer list are 0 and 1 and each inner list has index 0, 1 as well. \n",
    "# To access the 3:\n",
    "print(a[1][0])"
   ]
  },
  {
   "cell_type": "markdown",
   "metadata": {},
   "source": [
    "Now let's try an example of adding two matrices component wise:"
   ]
  },
  {
   "cell_type": "code",
   "execution_count": 5,
   "metadata": {},
   "outputs": [
    {
     "name": "stdout",
     "output_type": "stream",
     "text": [
      "[[5, 7], [9, 11]]\n"
     ]
    }
   ],
   "source": [
    "a = [[1, 2],\n",
    "     [3, 4]]\n",
    "\n",
    "b = [[4, 5],\n",
    "     [6, 7]]\n",
    "\n",
    "for i in range(len(a)):\n",
    "    for j in range(len(a[i])):\n",
    "        a[i][j] += b[i][j]\n",
    "        \n",
    "print(a)"
   ]
  },
  {
   "cell_type": "code",
   "execution_count": null,
   "metadata": {},
   "outputs": [],
   "source": []
  }
 ],
 "metadata": {
  "kernelspec": {
   "display_name": "Python 3",
   "language": "python",
   "name": "python3"
  },
  "language_info": {
   "codemirror_mode": {
    "name": "ipython",
    "version": 3
   },
   "file_extension": ".py",
   "mimetype": "text/x-python",
   "name": "python",
   "nbconvert_exporter": "python",
   "pygments_lexer": "ipython3",
   "version": "3.6.2"
  }
 },
 "nbformat": 4,
 "nbformat_minor": 2
}
